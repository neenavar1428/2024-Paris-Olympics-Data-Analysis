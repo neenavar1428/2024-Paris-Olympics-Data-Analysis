{
  "nbformat": 4,
  "nbformat_minor": 0,
  "metadata": {
    "colab": {
      "provenance": [],
      "authorship_tag": "ABX9TyMpV8u/xOOE04TA7EklM8up",
      "include_colab_link": true
    },
    "kernelspec": {
      "name": "python3",
      "display_name": "Python 3"
    },
    "language_info": {
      "name": "python"
    }
  },
  "cells": [
    {
      "cell_type": "markdown",
      "metadata": {
        "id": "view-in-github",
        "colab_type": "text"
      },
      "source": [
        "<a href=\"https://colab.research.google.com/github/neenavar1428/2024-Paris-Olympics-Data-Analysis/blob/main/Paris_Olympics_data_analysis.ipynb\" target=\"_parent\"><img src=\"https://colab.research.google.com/assets/colab-badge.svg\" alt=\"Open In Colab\"/></a>"
      ]
    },
    {
      "cell_type": "code",
      "execution_count": null,
      "metadata": {
        "id": "F7BCWMTOk4GH"
      },
      "outputs": [],
      "source": [
        "import numpy as np\n",
        "import pandas as pd\n",
        "import seaborn as sns\n",
        "import matplotlib.pyplot as plt"
      ]
    },
    {
      "cell_type": "code",
      "source": [
        "df = pd.read_csv(r'athletes.csv')\n",
        "df"
      ],
      "metadata": {
        "id": "ez2S4aaklRgy"
      },
      "execution_count": null,
      "outputs": []
    },
    {
      "cell_type": "code",
      "source": [
        "df2 = pd.read_csv(r'events.csv')\n",
        "df3 = pd.read_csv(r'medallists.csv')\n",
        "df4 = pd.read_csv(r'medals.csv')\n",
        "df5 = pd.read_csv(r'medals_total.csv')\n",
        "df6= pd.read_csv(r'schedules.csv')\n",
        "df7 = pd.read_csv(r'schedules.csv')\n",
        "df8 = pd.read_csv(r'teams.csv')\n",
        "df9 = pd.read_csv(r'venues.csv')\n",
        "\n"
      ],
      "metadata": {
        "id": "nCVU39T7lyUI"
      },
      "execution_count": null,
      "outputs": []
    },
    {
      "cell_type": "code",
      "source": [
        "df4"
      ],
      "metadata": {
        "id": "_UbAgEEatCgT"
      },
      "execution_count": null,
      "outputs": []
    },
    {
      "cell_type": "code",
      "source": [
        "df.shape"
      ],
      "metadata": {
        "id": "5XCoOpczmupj"
      },
      "execution_count": null,
      "outputs": []
    },
    {
      "cell_type": "code",
      "source": [
        "df.columns"
      ],
      "metadata": {
        "collapsed": true,
        "id": "4pAziga3m49k"
      },
      "execution_count": null,
      "outputs": []
    },
    {
      "cell_type": "code",
      "source": [
        "df.head(5)"
      ],
      "metadata": {
        "collapsed": true,
        "id": "A3jgNKJKnMDc"
      },
      "execution_count": null,
      "outputs": []
    },
    {
      "cell_type": "code",
      "source": [
        "df2.info()"
      ],
      "metadata": {
        "id": "QxSGKh-wnS-O"
      },
      "execution_count": null,
      "outputs": []
    },
    {
      "cell_type": "code",
      "source": [
        "df.isna().any()"
      ],
      "metadata": {
        "id": "z8dLhWWonijZ"
      },
      "execution_count": null,
      "outputs": []
    },
    {
      "cell_type": "code",
      "source": [
        "df.isna().sum()"
      ],
      "metadata": {
        "id": "HKoGHVLLoGg4"
      },
      "execution_count": null,
      "outputs": []
    },
    {
      "cell_type": "code",
      "source": [
        "df[df.isna().any(axis=1)]"
      ],
      "metadata": {
        "id": "DptoIGZooIm-"
      },
      "execution_count": null,
      "outputs": []
    },
    {
      "cell_type": "code",
      "source": [
        "#df.duplicated().sum()\n",
        "\n",
        "df[df.duplicated()]"
      ],
      "metadata": {
        "id": "t0ZhJV5ToRNZ"
      },
      "execution_count": null,
      "outputs": []
    },
    {
      "cell_type": "code",
      "source": [
        "df2['event'].fillna('unknown', inplace =True)\n",
        "df2.iloc[[100, 16]]"
      ],
      "metadata": {
        "id": "sT0BmG4mpE7D"
      },
      "execution_count": null,
      "outputs": []
    },
    {
      "cell_type": "code",
      "source": [
        "import re\n",
        "\n",
        "def strip_char(column):\n",
        "    r = re.compile(r'[^a-zA-Z !@#$%&*_+-=|\\:\";<>,./()[\\]{}\\']')\n",
        "    return r.sub('', column)\n",
        "\n",
        "df['resultCol'] = df['event'].apply(strip_char)\n",
        "df.iloc[[100,16]]"
      ],
      "metadata": {
        "id": "Nm09a_44qRlE"
      },
      "execution_count": null,
      "outputs": []
    },
    {
      "cell_type": "code",
      "source": [
        "df.to_csv(r'\"D:\\Paris Olympics 2024\"', index = False)"
      ],
      "metadata": {
        "id": "DIWa_WNtq94W"
      },
      "execution_count": null,
      "outputs": []
    },
    {
      "cell_type": "code",
      "source": [
        "#DATA VISUALIZATION"
      ],
      "metadata": {
        "id": "8ks07LrjrLJm"
      },
      "execution_count": null,
      "outputs": []
    },
    {
      "cell_type": "code",
      "source": [
        "%matplotlib inline\n",
        "import matplotlib.pyplot as plt\n",
        "\n",
        "df['resultCol'] = pd.to_numeric(df['resultCol'], errors='coerce')\n",
        "df_numeric = df.select_dtypes(include=['number'])\n",
        "\n",
        "df_numeric.hist(bins=50, figsize=(10, 15), facecolor='y')\n",
        "plt.show()"
      ],
      "metadata": {
        "id": "JE2-SkU3rQqZ"
      },
      "execution_count": null,
      "outputs": []
    },
    {
      "cell_type": "code",
      "source": [
        "df['resultCol'] = pd.to_numeric(df['resultCol'], errors='coerce')\n",
        "numerical_df = df.select_dtypes(include=['number'])\n",
        "\n",
        "numerical_df.hist(bins=50, figsize=(10, 15), facecolor='y')\n",
        "plt.show()\n",
        "corr_matrix = numerical_df.corr()\n",
        "sns.heatmap(corr_matrix, annot=True)\n",
        "plt.show()"
      ],
      "metadata": {
        "id": "23EpYQRSrr06"
      },
      "execution_count": null,
      "outputs": []
    },
    {
      "cell_type": "code",
      "source": [
        "sns.pairplot(df,diag_kind='kde')\n",
        "plt.show()"
      ],
      "metadata": {
        "id": "G6dXjZEvsqbT"
      },
      "execution_count": null,
      "outputs": []
    },
    {
      "cell_type": "code",
      "source": [
        "df4_total= df.copy(deep=True)\n",
        "if 'Total' not in df4_total.columns:\n",
        "  df4_total['Total'] = 0\n",
        "\n",
        "df4_total['Total'] = np.sqrt((df4_total['Total']))\n",
        "df4_total"
      ],
      "metadata": {
        "id": "orXg3JApswWg"
      },
      "execution_count": null,
      "outputs": []
    },
    {
      "cell_type": "code",
      "source": [
        "sns.histplot(df4_total['Total'],color=\"dodgerblue\", kde = True)\n",
        "plt.title('Skewness after the Sqaure Root Transformation')\n",
        "plt.show()"
      ],
      "metadata": {
        "id": "NMjzfbNst4LL"
      },
      "execution_count": null,
      "outputs": []
    },
    {
      "cell_type": "code",
      "source": [
        "plt.title(\"Top 10 countries with the Silver Medals\")\n",
        "sns.barplot(x = S.index, y=\"silver_medal\", data=S)\n",
        "plt.xticks(rotation=90)\n",
        "plt.show()"
      ],
      "metadata": {
        "id": "sAJNm9hilAc2"
      },
      "execution_count": null,
      "outputs": []
    },
    {
      "cell_type": "code",
      "source": [
        "total_medals = df4_medals.sort_values(by=['total_medal'],ascending=False, inplace=False)\n",
        "T = total_medals[['total_medal']].head(10)\n",
        "T"
      ],
      "metadata": {
        "id": "MJAc_zv_lI7V"
      },
      "execution_count": null,
      "outputs": []
    }
  ]
}